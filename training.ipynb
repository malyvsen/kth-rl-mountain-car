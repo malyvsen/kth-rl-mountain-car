{
 "cells": [
  {
   "cell_type": "code",
   "execution_count": 1,
   "id": "e6aa0c4b",
   "metadata": {},
   "outputs": [
    {
     "data": {
      "application/javascript": [
       "\n",
       "            setTimeout(function() {\n",
       "                var nbb_cell_id = 1;\n",
       "                var nbb_unformatted_code = \"%load_ext nb_black\";\n",
       "                var nbb_formatted_code = \"%load_ext nb_black\";\n",
       "                var nbb_cells = Jupyter.notebook.get_cells();\n",
       "                for (var i = 0; i < nbb_cells.length; ++i) {\n",
       "                    if (nbb_cells[i].input_prompt_number == nbb_cell_id) {\n",
       "                        if (nbb_cells[i].get_text() == nbb_unformatted_code) {\n",
       "                             nbb_cells[i].set_text(nbb_formatted_code);\n",
       "                        }\n",
       "                        break;\n",
       "                    }\n",
       "                }\n",
       "            }, 500);\n",
       "            "
      ],
      "text/plain": [
       "<IPython.core.display.Javascript object>"
      ]
     },
     "metadata": {},
     "output_type": "display_data"
    }
   ],
   "source": [
    "%load_ext nb_black"
   ]
  },
  {
   "cell_type": "code",
   "execution_count": 2,
   "id": "31073f1c",
   "metadata": {},
   "outputs": [
    {
     "data": {
      "application/javascript": [
       "\n",
       "            setTimeout(function() {\n",
       "                var nbb_cell_id = 2;\n",
       "                var nbb_unformatted_code = \"import gym\\nimport itertools\\nfrom tqdm.auto import trange\\n\\nfrom car import Agent, Hyperparameters\";\n",
       "                var nbb_formatted_code = \"import gym\\nimport itertools\\nfrom tqdm.auto import trange\\n\\nfrom car import Agent, Hyperparameters\";\n",
       "                var nbb_cells = Jupyter.notebook.get_cells();\n",
       "                for (var i = 0; i < nbb_cells.length; ++i) {\n",
       "                    if (nbb_cells[i].input_prompt_number == nbb_cell_id) {\n",
       "                        if (nbb_cells[i].get_text() == nbb_unformatted_code) {\n",
       "                             nbb_cells[i].set_text(nbb_formatted_code);\n",
       "                        }\n",
       "                        break;\n",
       "                    }\n",
       "                }\n",
       "            }, 500);\n",
       "            "
      ],
      "text/plain": [
       "<IPython.core.display.Javascript object>"
      ]
     },
     "metadata": {},
     "output_type": "display_data"
    }
   ],
   "source": [
    "import gym\n",
    "import itertools\n",
    "from tqdm.auto import trange\n",
    "\n",
    "from car import Agent, Hyperparameters"
   ]
  },
  {
   "cell_type": "code",
   "execution_count": 3,
   "id": "641ddaf6",
   "metadata": {},
   "outputs": [
    {
     "data": {
      "application/javascript": [
       "\n",
       "            setTimeout(function() {\n",
       "                var nbb_cell_id = 3;\n",
       "                var nbb_unformatted_code = \"environment = gym.make(\\\"MountainCar-v0\\\")\\nagent = Agent.random(\\n    environment=environment,\\n    random_action_probability=0.01,\\n    function_order=2,\\n    hyperparameters=Hyperparameters(\\n        discount=0.99,\\n        forgetting=0.99,\\n        learning_rate=0.5,\\n    ),\\n)\";\n",
       "                var nbb_formatted_code = \"environment = gym.make(\\\"MountainCar-v0\\\")\\nagent = Agent.random(\\n    environment=environment,\\n    random_action_probability=0.01,\\n    function_order=2,\\n    hyperparameters=Hyperparameters(\\n        discount=0.99,\\n        forgetting=0.99,\\n        learning_rate=0.5,\\n    ),\\n)\";\n",
       "                var nbb_cells = Jupyter.notebook.get_cells();\n",
       "                for (var i = 0; i < nbb_cells.length; ++i) {\n",
       "                    if (nbb_cells[i].input_prompt_number == nbb_cell_id) {\n",
       "                        if (nbb_cells[i].get_text() == nbb_unformatted_code) {\n",
       "                             nbb_cells[i].set_text(nbb_formatted_code);\n",
       "                        }\n",
       "                        break;\n",
       "                    }\n",
       "                }\n",
       "            }, 500);\n",
       "            "
      ],
      "text/plain": [
       "<IPython.core.display.Javascript object>"
      ]
     },
     "metadata": {},
     "output_type": "display_data"
    }
   ],
   "source": [
    "environment = gym.make(\"MountainCar-v0\")\n",
    "agent = Agent.random(\n",
    "    environment=environment,\n",
    "    random_action_probability=0.01,\n",
    "    function_order=2,\n",
    "    hyperparameters=Hyperparameters(\n",
    "        discount=0.99,\n",
    "        forgetting=0.99,\n",
    "        learning_rate=0.5,\n",
    "    ),\n",
    ")"
   ]
  },
  {
   "cell_type": "code",
   "execution_count": 4,
   "id": "76a7cfff",
   "metadata": {},
   "outputs": [
    {
     "data": {
      "text/plain": [
       "(Agent(environment=<TimeLimit<MountainCarEnv<MountainCar-v0>>>, hyperparameters=Hyperparameters(discount=0.99, forgetting=0.99, learning_rate=0.5), random_action_probability=0.01, weighted_functions={0: [WeightedFunction(basis_function=BasisFunction(environment=<TimeLimit<MountainCarEnv<MountainCar-v0>>>, coefficients=array([0, 0])), hyperparameters=Hyperparameters(discount=0.99, forgetting=0.99, learning_rate=0.5), weight=-121.09340102162452, eligibility=0.6029978048816889), WeightedFunction(basis_function=BasisFunction(environment=<TimeLimit<MountainCarEnv<MountainCar-v0>>>, coefficients=array([0, 1])), hyperparameters=Hyperparameters(discount=0.99, forgetting=0.99, learning_rate=0.5), weight=-24.68802614136544, eligibility=0.1314969794074984), WeightedFunction(basis_function=BasisFunction(environment=<TimeLimit<MountainCarEnv<MountainCar-v0>>>, coefficients=array([0, 2])), hyperparameters=Hyperparameters(discount=0.99, forgetting=0.99, learning_rate=0.5), weight=108.38666140710217, eligibility=-0.5345677665660138), WeightedFunction(basis_function=BasisFunction(environment=<TimeLimit<MountainCarEnv<MountainCar-v0>>>, coefficients=array([1, 0])), hyperparameters=Hyperparameters(discount=0.99, forgetting=0.99, learning_rate=0.5), weight=-54.15663856300138, eligibility=0.2773645836866854), WeightedFunction(basis_function=BasisFunction(environment=<TimeLimit<MountainCarEnv<MountainCar-v0>>>, coefficients=array([1, 1])), hyperparameters=Hyperparameters(discount=0.99, forgetting=0.99, learning_rate=0.5), weight=90.90067176079852, eligibility=-0.44933220210173813), WeightedFunction(basis_function=BasisFunction(environment=<TimeLimit<MountainCarEnv<MountainCar-v0>>>, coefficients=array([1, 2])), hyperparameters=Hyperparameters(discount=0.99, forgetting=0.99, learning_rate=0.5), weight=88.01575693686581, eligibility=-0.4588497001243085), WeightedFunction(basis_function=BasisFunction(environment=<TimeLimit<MountainCarEnv<MountainCar-v0>>>, coefficients=array([2, 0])), hyperparameters=Hyperparameters(discount=0.99, forgetting=0.99, learning_rate=0.5), weight=68.61543442962497, eligibility=-0.33399738602374346), WeightedFunction(basis_function=BasisFunction(environment=<TimeLimit<MountainCarEnv<MountainCar-v0>>>, coefficients=array([2, 1])), hyperparameters=Hyperparameters(discount=0.99, forgetting=0.99, learning_rate=0.5), weight=102.45901804940613, eligibility=-0.5277703254365275), WeightedFunction(basis_function=BasisFunction(environment=<TimeLimit<MountainCarEnv<MountainCar-v0>>>, coefficients=array([2, 2])), hyperparameters=Hyperparameters(discount=0.99, forgetting=0.99, learning_rate=0.5), weight=-23.579991314456414, eligibility=0.08784276727486402)], 1: [WeightedFunction(basis_function=BasisFunction(environment=<TimeLimit<MountainCarEnv<MountainCar-v0>>>, coefficients=array([0, 0])), hyperparameters=Hyperparameters(discount=0.99, forgetting=0.99, learning_rate=0.5), weight=-86.70942066688937, eligibility=3.568630406893241), WeightedFunction(basis_function=BasisFunction(environment=<TimeLimit<MountainCarEnv<MountainCar-v0>>>, coefficients=array([0, 1])), hyperparameters=Hyperparameters(discount=0.99, forgetting=0.99, learning_rate=0.5), weight=10.856546181091542, eligibility=-0.1957027764375557), WeightedFunction(basis_function=BasisFunction(environment=<TimeLimit<MountainCarEnv<MountainCar-v0>>>, coefficients=array([0, 2])), hyperparameters=Hyperparameters(discount=0.99, forgetting=0.99, learning_rate=0.5), weight=72.45881517773894, eligibility=-3.1749824782602265), WeightedFunction(basis_function=BasisFunction(environment=<TimeLimit<MountainCarEnv<MountainCar-v0>>>, coefficients=array([1, 0])), hyperparameters=Hyperparameters(discount=0.99, forgetting=0.99, learning_rate=0.5), weight=-35.22149208409815, eligibility=1.53705002169852), WeightedFunction(basis_function=BasisFunction(environment=<TimeLimit<MountainCarEnv<MountainCar-v0>>>, coefficients=array([1, 1])), hyperparameters=Hyperparameters(discount=0.99, forgetting=0.99, learning_rate=0.5), weight=76.20579011968712, eligibility=-3.1472974753329286), WeightedFunction(basis_function=BasisFunction(environment=<TimeLimit<MountainCarEnv<MountainCar-v0>>>, coefficients=array([1, 2])), hyperparameters=Hyperparameters(discount=0.99, forgetting=0.99, learning_rate=0.5), weight=11.575814431526293, eligibility=-1.0865030846338606), WeightedFunction(basis_function=BasisFunction(environment=<TimeLimit<MountainCarEnv<MountainCar-v0>>>, coefficients=array([2, 0])), hyperparameters=Hyperparameters(discount=0.99, forgetting=0.99, learning_rate=0.5), weight=54.02308907511839, eligibility=-2.1083865841528397), WeightedFunction(basis_function=BasisFunction(environment=<TimeLimit<MountainCarEnv<MountainCar-v0>>>, coefficients=array([2, 1])), hyperparameters=Hyperparameters(discount=0.99, forgetting=0.99, learning_rate=0.5), weight=48.023687647956606, eligibility=-2.472194276999631), WeightedFunction(basis_function=BasisFunction(environment=<TimeLimit<MountainCarEnv<MountainCar-v0>>>, coefficients=array([2, 2])), hyperparameters=Hyperparameters(discount=0.99, forgetting=0.99, learning_rate=0.5), weight=-54.02929234844988, eligibility=2.0341736756395337)], 2: [WeightedFunction(basis_function=BasisFunction(environment=<TimeLimit<MountainCarEnv<MountainCar-v0>>>, coefficients=array([0, 0])), hyperparameters=Hyperparameters(discount=0.99, forgetting=0.99, learning_rate=0.5), weight=-97.46364732265289, eligibility=45.177590216614746), WeightedFunction(basis_function=BasisFunction(environment=<TimeLimit<MountainCarEnv<MountainCar-v0>>>, coefficients=array([0, 1])), hyperparameters=Hyperparameters(discount=0.99, forgetting=0.99, learning_rate=0.5), weight=2.877261699889189, eligibility=3.7697205989640974), WeightedFunction(basis_function=BasisFunction(environment=<TimeLimit<MountainCarEnv<MountainCar-v0>>>, coefficients=array([0, 2])), hyperparameters=Hyperparameters(discount=0.99, forgetting=0.99, learning_rate=0.5), weight=87.76145105766358, eligibility=-40.5440449500318), WeightedFunction(basis_function=BasisFunction(environment=<TimeLimit<MountainCarEnv<MountainCar-v0>>>, coefficients=array([1, 0])), hyperparameters=Hyperparameters(discount=0.99, forgetting=0.99, learning_rate=0.5), weight=-26.562793907869384, eligibility=5.738397711279904), WeightedFunction(basis_function=BasisFunction(environment=<TimeLimit<MountainCarEnv<MountainCar-v0>>>, coefficients=array([1, 1])), hyperparameters=Hyperparameters(discount=0.99, forgetting=0.99, learning_rate=0.5), weight=84.99104495307316, eligibility=-41.759107244485705), WeightedFunction(basis_function=BasisFunction(environment=<TimeLimit<MountainCarEnv<MountainCar-v0>>>, coefficients=array([1, 2])), hyperparameters=Hyperparameters(discount=0.99, forgetting=0.99, learning_rate=0.5), weight=16.193810302327343, eligibility=-12.04330460288331), WeightedFunction(basis_function=BasisFunction(environment=<TimeLimit<MountainCarEnv<MountainCar-v0>>>, coefficients=array([2, 0])), hyperparameters=Hyperparameters(discount=0.99, forgetting=0.99, learning_rate=0.5), weight=72.60398924164309, eligibility=-39.82486947416516), WeightedFunction(basis_function=BasisFunction(environment=<TimeLimit<MountainCarEnv<MountainCar-v0>>>, coefficients=array([2, 1])), hyperparameters=Hyperparameters(discount=0.99, forgetting=0.99, learning_rate=0.5), weight=37.150105940773834, eligibility=-13.449135277257492), WeightedFunction(basis_function=BasisFunction(environment=<TimeLimit<MountainCarEnv<MountainCar-v0>>>, coefficients=array([2, 2])), hyperparameters=Hyperparameters(discount=0.99, forgetting=0.99, learning_rate=0.5), weight=-57.08101667259251, eligibility=32.4074362994955)]}),\n",
       " -200.0)"
      ]
     },
     "execution_count": 4,
     "metadata": {},
     "output_type": "execute_result"
    },
    {
     "data": {
      "application/javascript": [
       "\n",
       "            setTimeout(function() {\n",
       "                var nbb_cell_id = 4;\n",
       "                var nbb_unformatted_code = \"def train_episode(agent):\\n    state = environment.reset()\\n    episode_reward = 0\\n\\n    for step_id in itertools.count():\\n        action = agent.select_action(state)\\n        last_state = state\\n        state, reward, done, info = environment.step(action)\\n        episode_reward += reward\\n\\n        agent = agent.train(\\n            state=last_state, next_state=state, action=action, reward=reward\\n        )\\n\\n        if done:\\n            break\\n\\n    return agent, episode_reward\\n\\n\\ntrain_episode(agent)\";\n",
       "                var nbb_formatted_code = \"def train_episode(agent):\\n    state = environment.reset()\\n    episode_reward = 0\\n\\n    for step_id in itertools.count():\\n        action = agent.select_action(state)\\n        last_state = state\\n        state, reward, done, info = environment.step(action)\\n        episode_reward += reward\\n\\n        agent = agent.train(\\n            state=last_state, next_state=state, action=action, reward=reward\\n        )\\n\\n        if done:\\n            break\\n\\n    return agent, episode_reward\\n\\n\\ntrain_episode(agent)\";\n",
       "                var nbb_cells = Jupyter.notebook.get_cells();\n",
       "                for (var i = 0; i < nbb_cells.length; ++i) {\n",
       "                    if (nbb_cells[i].input_prompt_number == nbb_cell_id) {\n",
       "                        if (nbb_cells[i].get_text() == nbb_unformatted_code) {\n",
       "                             nbb_cells[i].set_text(nbb_formatted_code);\n",
       "                        }\n",
       "                        break;\n",
       "                    }\n",
       "                }\n",
       "            }, 500);\n",
       "            "
      ],
      "text/plain": [
       "<IPython.core.display.Javascript object>"
      ]
     },
     "metadata": {},
     "output_type": "display_data"
    }
   ],
   "source": [
    "def train_episode(agent):\n",
    "    state = environment.reset()\n",
    "    episode_reward = 0\n",
    "\n",
    "    for step_id in itertools.count():\n",
    "        action = agent.select_action(state)\n",
    "        last_state = state\n",
    "        state, reward, done, info = environment.step(action)\n",
    "        episode_reward += reward\n",
    "\n",
    "        agent = agent.train(\n",
    "            state=last_state, next_state=state, action=action, reward=reward\n",
    "        )\n",
    "\n",
    "        if done:\n",
    "            break\n",
    "\n",
    "    return agent, episode_reward\n",
    "\n",
    "\n",
    "train_episode(agent)"
   ]
  }
 ],
 "metadata": {
  "kernelspec": {
   "display_name": "Python 3 (ipykernel)",
   "language": "python",
   "name": "python3"
  },
  "language_info": {
   "codemirror_mode": {
    "name": "ipython",
    "version": 3
   },
   "file_extension": ".py",
   "mimetype": "text/x-python",
   "name": "python",
   "nbconvert_exporter": "python",
   "pygments_lexer": "ipython3",
   "version": "3.9.0"
  }
 },
 "nbformat": 4,
 "nbformat_minor": 5
}
