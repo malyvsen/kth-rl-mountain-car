{
 "cells": [
  {
   "cell_type": "code",
   "execution_count": 1,
   "id": "e6aa0c4b",
   "metadata": {},
   "outputs": [
    {
     "data": {
      "application/javascript": [
       "\n",
       "            setTimeout(function() {\n",
       "                var nbb_cell_id = 1;\n",
       "                var nbb_unformatted_code = \"%load_ext nb_black\";\n",
       "                var nbb_formatted_code = \"%load_ext nb_black\";\n",
       "                var nbb_cells = Jupyter.notebook.get_cells();\n",
       "                for (var i = 0; i < nbb_cells.length; ++i) {\n",
       "                    if (nbb_cells[i].input_prompt_number == nbb_cell_id) {\n",
       "                        if (nbb_cells[i].get_text() == nbb_unformatted_code) {\n",
       "                             nbb_cells[i].set_text(nbb_formatted_code);\n",
       "                        }\n",
       "                        break;\n",
       "                    }\n",
       "                }\n",
       "            }, 500);\n",
       "            "
      ],
      "text/plain": [
       "<IPython.core.display.Javascript object>"
      ]
     },
     "metadata": {},
     "output_type": "display_data"
    }
   ],
   "source": [
    "%load_ext nb_black"
   ]
  },
  {
   "cell_type": "code",
   "execution_count": 2,
   "id": "31073f1c",
   "metadata": {},
   "outputs": [
    {
     "data": {
      "application/javascript": [
       "\n",
       "            setTimeout(function() {\n",
       "                var nbb_cell_id = 2;\n",
       "                var nbb_unformatted_code = \"import gym\\nimport numpy as np\\nfrom tqdm.auto import tqdm, trange\\n\\nfrom car import Agent, BasisFunction, Hyperparameters, train_episode, WeightedFunction\";\n",
       "                var nbb_formatted_code = \"import gym\\nimport numpy as np\\nfrom tqdm.auto import tqdm, trange\\n\\nfrom car import Agent, BasisFunction, Hyperparameters, train_episode, WeightedFunction\";\n",
       "                var nbb_cells = Jupyter.notebook.get_cells();\n",
       "                for (var i = 0; i < nbb_cells.length; ++i) {\n",
       "                    if (nbb_cells[i].input_prompt_number == nbb_cell_id) {\n",
       "                        if (nbb_cells[i].get_text() == nbb_unformatted_code) {\n",
       "                             nbb_cells[i].set_text(nbb_formatted_code);\n",
       "                        }\n",
       "                        break;\n",
       "                    }\n",
       "                }\n",
       "            }, 500);\n",
       "            "
      ],
      "text/plain": [
       "<IPython.core.display.Javascript object>"
      ]
     },
     "metadata": {},
     "output_type": "display_data"
    }
   ],
   "source": [
    "import gym\n",
    "import numpy as np\n",
    "from tqdm.auto import tqdm, trange\n",
    "\n",
    "from car import Agent, BasisFunction, Hyperparameters, train_episode, WeightedFunction"
   ]
  },
  {
   "cell_type": "code",
   "execution_count": 3,
   "id": "641ddaf6",
   "metadata": {},
   "outputs": [
    {
     "data": {
      "application/javascript": [
       "\n",
       "            setTimeout(function() {\n",
       "                var nbb_cell_id = 3;\n",
       "                var nbb_unformatted_code = \"environment = gym.make(\\\"MountainCar-v0\\\")\";\n",
       "                var nbb_formatted_code = \"environment = gym.make(\\\"MountainCar-v0\\\")\";\n",
       "                var nbb_cells = Jupyter.notebook.get_cells();\n",
       "                for (var i = 0; i < nbb_cells.length; ++i) {\n",
       "                    if (nbb_cells[i].input_prompt_number == nbb_cell_id) {\n",
       "                        if (nbb_cells[i].get_text() == nbb_unformatted_code) {\n",
       "                             nbb_cells[i].set_text(nbb_formatted_code);\n",
       "                        }\n",
       "                        break;\n",
       "                    }\n",
       "                }\n",
       "            }, 500);\n",
       "            "
      ],
      "text/plain": [
       "<IPython.core.display.Javascript object>"
      ]
     },
     "metadata": {},
     "output_type": "display_data"
    }
   ],
   "source": [
    "environment = gym.make(\"MountainCar-v0\")"
   ]
  },
  {
   "cell_type": "code",
   "execution_count": 4,
   "id": "025c3196",
   "metadata": {},
   "outputs": [
    {
     "data": {
      "application/javascript": [
       "\n",
       "            setTimeout(function() {\n",
       "                var nbb_cell_id = 4;\n",
       "                var nbb_unformatted_code = \"make_weighted = lambda coef, weight: WeightedFunction(\\n    basis_function=BasisFunction(environment=environment, coefficients=np.array(coef)),\\n    hyperparameters=Hyperparameters(\\n        discount=0.99,\\n        forgetting=0.99,\\n        learning_rate=0.5,\\n    ),\\n    weight=weight,\\n    eligibility=0,\\n)\\n\\nmake_guess = lambda offset, skew: Agent(\\n    environment=environment,\\n    hyperparameters=Hyperparameters(\\n        discount=0.99,\\n        forgetting=0.99,\\n        learning_rate=0.5,\\n    ),\\n    random_action_probability=0.05,\\n    weighted_functions={\\n        0: [\\n            make_weighted([0, 0], max(offset, 0)),\\n            make_weighted([1, 0], skew),\\n            make_weighted([0, 1], -1),\\n        ],\\n        1: [],\\n        2: [\\n            make_weighted([0, 0], max(-offset, 0)),\\n            make_weighted([1, 0], -skew),\\n            make_weighted([0, 1], 1),\\n        ],\\n    },\\n)\";\n",
       "                var nbb_formatted_code = \"make_weighted = lambda coef, weight: WeightedFunction(\\n    basis_function=BasisFunction(environment=environment, coefficients=np.array(coef)),\\n    hyperparameters=Hyperparameters(\\n        discount=0.99,\\n        forgetting=0.99,\\n        learning_rate=0.5,\\n    ),\\n    weight=weight,\\n    eligibility=0,\\n)\\n\\nmake_guess = lambda offset, skew: Agent(\\n    environment=environment,\\n    hyperparameters=Hyperparameters(\\n        discount=0.99,\\n        forgetting=0.99,\\n        learning_rate=0.5,\\n    ),\\n    random_action_probability=0.05,\\n    weighted_functions={\\n        0: [\\n            make_weighted([0, 0], max(offset, 0)),\\n            make_weighted([1, 0], skew),\\n            make_weighted([0, 1], -1),\\n        ],\\n        1: [],\\n        2: [\\n            make_weighted([0, 0], max(-offset, 0)),\\n            make_weighted([1, 0], -skew),\\n            make_weighted([0, 1], 1),\\n        ],\\n    },\\n)\";\n",
       "                var nbb_cells = Jupyter.notebook.get_cells();\n",
       "                for (var i = 0; i < nbb_cells.length; ++i) {\n",
       "                    if (nbb_cells[i].input_prompt_number == nbb_cell_id) {\n",
       "                        if (nbb_cells[i].get_text() == nbb_unformatted_code) {\n",
       "                             nbb_cells[i].set_text(nbb_formatted_code);\n",
       "                        }\n",
       "                        break;\n",
       "                    }\n",
       "                }\n",
       "            }, 500);\n",
       "            "
      ],
      "text/plain": [
       "<IPython.core.display.Javascript object>"
      ]
     },
     "metadata": {},
     "output_type": "display_data"
    }
   ],
   "source": [
    "make_weighted = lambda coef, weight: WeightedFunction(\n",
    "    basis_function=BasisFunction(environment=environment, coefficients=np.array(coef)),\n",
    "    hyperparameters=Hyperparameters(\n",
    "        discount=0.99,\n",
    "        forgetting=0.99,\n",
    "        learning_rate=0.5,\n",
    "    ),\n",
    "    weight=weight,\n",
    "    eligibility=0,\n",
    ")\n",
    "\n",
    "make_guess = lambda offset, skew: Agent(\n",
    "    environment=environment,\n",
    "    hyperparameters=Hyperparameters(\n",
    "        discount=0.99,\n",
    "        forgetting=0.99,\n",
    "        learning_rate=0.5,\n",
    "    ),\n",
    "    random_action_probability=0.05,\n",
    "    weighted_functions={\n",
    "        0: [\n",
    "            make_weighted([0, 0], max(offset, 0)),\n",
    "            make_weighted([1, 0], skew),\n",
    "            make_weighted([0, 1], -1),\n",
    "        ],\n",
    "        1: [],\n",
    "        2: [\n",
    "            make_weighted([0, 0], max(-offset, 0)),\n",
    "            make_weighted([1, 0], -skew),\n",
    "            make_weighted([0, 1], 1),\n",
    "        ],\n",
    "    },\n",
    ")"
   ]
  },
  {
   "cell_type": "code",
   "execution_count": 5,
   "id": "708a7da4",
   "metadata": {},
   "outputs": [
    {
     "data": {
      "application/vnd.jupyter.widget-view+json": {
       "model_id": "97db4ac9be364670b94ce15230c7c4ad",
       "version_major": 2,
       "version_minor": 0
      },
      "text/plain": [
       "  0%|          | 0/50 [00:00<?, ?it/s]"
      ]
     },
     "metadata": {},
     "output_type": "display_data"
    },
    {
     "data": {
      "text/plain": [
       "[[-0.47959183673469385, 0.33673469387755095],\n",
       " [-0.35714285714285715, 0.2142857142857142],\n",
       " [-0.2755102040816327, 0.4591836734693877],\n",
       " [-0.1938775510204082, 0.15306122448979587],\n",
       " [-0.15306122448979592, -0.030612244897959218],\n",
       " [-0.11224489795918369, -0.05102040816326536],\n",
       " [-0.0918367346938776, -0.010204081632653073],\n",
       " [-0.07142857142857145, 0.15306122448979587],\n",
       " [-0.030612244897959218, -0.05102040816326536],\n",
       " [-0.030612244897959218, 0.29591836734693866],\n",
       " [-0.030612244897959218, 0.3163265306122448],\n",
       " [0.2142857142857142, -0.1938775510204082],\n",
       " [0.23469387755102034, 0.15306122448979587],\n",
       " [0.29591836734693866, 0.15306122448979587],\n",
       " [0.3571428571428571, 0.3979591836734693],\n",
       " [0.3979591836734693, 0.11224489795918358],\n",
       " [0.4183673469387754, -0.17346938775510207],\n",
       " [0.4183673469387754, 0.0714285714285714],\n",
       " [0.4183673469387754, 0.19387755102040816],\n",
       " [0.43877551020408156, -0.0918367346938776],\n",
       " [0.47959183673469385, -0.3163265306122449],\n",
       " [0.5, 0.2551020408163265]]"
      ]
     },
     "execution_count": 5,
     "metadata": {},
     "output_type": "execute_result"
    },
    {
     "data": {
      "application/javascript": [
       "\n",
       "            setTimeout(function() {\n",
       "                var nbb_cell_id = 5;\n",
       "                var nbb_unformatted_code = \"viable = []\\nfor offset in tqdm(np.linspace(-0.5, 0.5)):\\n    for skew in np.linspace(-0.5, 0.5):\\n        agent, total_reward = train_episode(environment, agent=make_guess(offset, skew))\\n        if total_reward > -200:\\n            viable.append([offset, skew])\\n\\nviable\";\n",
       "                var nbb_formatted_code = \"viable = []\\nfor offset in tqdm(np.linspace(-0.5, 0.5)):\\n    for skew in np.linspace(-0.5, 0.5):\\n        agent, total_reward = train_episode(environment, agent=make_guess(offset, skew))\\n        if total_reward > -200:\\n            viable.append([offset, skew])\\n\\nviable\";\n",
       "                var nbb_cells = Jupyter.notebook.get_cells();\n",
       "                for (var i = 0; i < nbb_cells.length; ++i) {\n",
       "                    if (nbb_cells[i].input_prompt_number == nbb_cell_id) {\n",
       "                        if (nbb_cells[i].get_text() == nbb_unformatted_code) {\n",
       "                             nbb_cells[i].set_text(nbb_formatted_code);\n",
       "                        }\n",
       "                        break;\n",
       "                    }\n",
       "                }\n",
       "            }, 500);\n",
       "            "
      ],
      "text/plain": [
       "<IPython.core.display.Javascript object>"
      ]
     },
     "metadata": {},
     "output_type": "display_data"
    }
   ],
   "source": [
    "viable = []\n",
    "for offset in tqdm(np.linspace(-0.5, 0.5)):\n",
    "    for skew in np.linspace(-0.5, 0.5):\n",
    "        agent, total_reward = train_episode(environment, agent=make_guess(offset, skew))\n",
    "        if total_reward > -200:\n",
    "            viable.append([offset, skew])\n",
    "\n",
    "viable"
   ]
  },
  {
   "cell_type": "code",
   "execution_count": 6,
   "id": "fce33e60",
   "metadata": {},
   "outputs": [
    {
     "data": {
      "application/vnd.jupyter.widget-view+json": {
       "model_id": "a5d7932a714a44f080819eda8ac2e702",
       "version_major": 2,
       "version_minor": 0
      },
      "text/plain": [
       "  0%|          | 0/22 [00:00<?, ?it/s]"
      ]
     },
     "metadata": {},
     "output_type": "display_data"
    },
    {
     "name": "stdout",
     "output_type": "stream",
     "text": [
      "Best offset=0.5, skew=0.2551020408163265, score=-199.31\n"
     ]
    },
    {
     "data": {
      "application/javascript": [
       "\n",
       "            setTimeout(function() {\n",
       "                var nbb_cell_id = 6;\n",
       "                var nbb_unformatted_code = \"scores = {\\n    (offset, skew): np.mean(\\n        [\\n            train_episode(environment, agent=make_guess(offset, skew))[1]\\n            for attempt in range(100)\\n        ]\\n    )\\n    for offset, skew in tqdm(viable)\\n}\\nbest_params = max(scores.keys(), key=lambda params: scores[params])\\nprint(\\n    f\\\"Best offset={best_params[0]}, skew={best_params[1]}, score={scores[best_params]}\\\"\\n)\";\n",
       "                var nbb_formatted_code = \"scores = {\\n    (offset, skew): np.mean(\\n        [\\n            train_episode(environment, agent=make_guess(offset, skew))[1]\\n            for attempt in range(100)\\n        ]\\n    )\\n    for offset, skew in tqdm(viable)\\n}\\nbest_params = max(scores.keys(), key=lambda params: scores[params])\\nprint(\\n    f\\\"Best offset={best_params[0]}, skew={best_params[1]}, score={scores[best_params]}\\\"\\n)\";\n",
       "                var nbb_cells = Jupyter.notebook.get_cells();\n",
       "                for (var i = 0; i < nbb_cells.length; ++i) {\n",
       "                    if (nbb_cells[i].input_prompt_number == nbb_cell_id) {\n",
       "                        if (nbb_cells[i].get_text() == nbb_unformatted_code) {\n",
       "                             nbb_cells[i].set_text(nbb_formatted_code);\n",
       "                        }\n",
       "                        break;\n",
       "                    }\n",
       "                }\n",
       "            }, 500);\n",
       "            "
      ],
      "text/plain": [
       "<IPython.core.display.Javascript object>"
      ]
     },
     "metadata": {},
     "output_type": "display_data"
    }
   ],
   "source": [
    "scores = {\n",
    "    (offset, skew): np.mean(\n",
    "        [\n",
    "            train_episode(environment, agent=make_guess(offset, skew))[1]\n",
    "            for attempt in range(100)\n",
    "        ]\n",
    "    )\n",
    "    for offset, skew in tqdm(viable)\n",
    "}\n",
    "best_params = max(scores.keys(), key=lambda params: scores[params])\n",
    "print(\n",
    "    f\"Best offset={best_params[0]}, skew={best_params[1]}, score={scores[best_params]}\"\n",
    ")"
   ]
  },
  {
   "cell_type": "code",
   "execution_count": 7,
   "id": "c88133da",
   "metadata": {},
   "outputs": [
    {
     "data": {
      "application/vnd.jupyter.widget-view+json": {
       "model_id": "7a2bb7d2c57048818cd86f1444c49699",
       "version_major": 2,
       "version_minor": 0
      },
      "text/plain": [
       "  0%|          | 0/1000 [00:00<?, ?it/s]"
      ]
     },
     "metadata": {},
     "output_type": "display_data"
    },
    {
     "data": {
      "text/plain": [
       "0.007"
      ]
     },
     "execution_count": 7,
     "metadata": {},
     "output_type": "execute_result"
    },
    {
     "data": {
      "application/javascript": [
       "\n",
       "            setTimeout(function() {\n",
       "                var nbb_cell_id = 7;\n",
       "                var nbb_unformatted_code = \"success_frequency = np.mean(\\n    [\\n        train_episode(environment, agent=make_guess(*best_params))[1] > -200\\n        for attempt in trange(1000)\\n    ]\\n)\\nsuccess_frequency\";\n",
       "                var nbb_formatted_code = \"success_frequency = np.mean(\\n    [\\n        train_episode(environment, agent=make_guess(*best_params))[1] > -200\\n        for attempt in trange(1000)\\n    ]\\n)\\nsuccess_frequency\";\n",
       "                var nbb_cells = Jupyter.notebook.get_cells();\n",
       "                for (var i = 0; i < nbb_cells.length; ++i) {\n",
       "                    if (nbb_cells[i].input_prompt_number == nbb_cell_id) {\n",
       "                        if (nbb_cells[i].get_text() == nbb_unformatted_code) {\n",
       "                             nbb_cells[i].set_text(nbb_formatted_code);\n",
       "                        }\n",
       "                        break;\n",
       "                    }\n",
       "                }\n",
       "            }, 500);\n",
       "            "
      ],
      "text/plain": [
       "<IPython.core.display.Javascript object>"
      ]
     },
     "metadata": {},
     "output_type": "display_data"
    }
   ],
   "source": [
    "success_frequency = np.mean(\n",
    "    [\n",
    "        train_episode(environment, agent=make_guess(*best_params))[1] > -200\n",
    "        for attempt in trange(1000)\n",
    "    ]\n",
    ")\n",
    "success_frequency"
   ]
  }
 ],
 "metadata": {
  "kernelspec": {
   "display_name": "Python 3 (ipykernel)",
   "language": "python",
   "name": "python3"
  },
  "language_info": {
   "codemirror_mode": {
    "name": "ipython",
    "version": 3
   },
   "file_extension": ".py",
   "mimetype": "text/x-python",
   "name": "python",
   "nbconvert_exporter": "python",
   "pygments_lexer": "ipython3",
   "version": "3.9.0"
  },
  "widgets": {
   "application/vnd.jupyter.widget-state+json": {
    "state": {
     "00cd5a463a5e472e8c663c4be586c26c": {
      "model_module": "@jupyter-widgets/controls",
      "model_module_version": "1.5.0",
      "model_name": "ProgressStyleModel",
      "state": {
       "description_width": ""
      }
     },
     "01be5c61458f4b858ae358a38e5b1854": {
      "model_module": "@jupyter-widgets/base",
      "model_module_version": "1.2.0",
      "model_name": "LayoutModel",
      "state": {}
     },
     "04ee758c9b9d4028b8a9820f8622ee86": {
      "model_module": "@jupyter-widgets/controls",
      "model_module_version": "1.5.0",
      "model_name": "HTMLModel",
      "state": {
       "layout": "IPY_MODEL_5a29019a60c74b428eb159010e38bc91",
       "style": "IPY_MODEL_15b801926050468397af233f4c343c7c",
       "value": "  0%"
      }
     },
     "07f642b217e74c21bb7f26a7f3b93404": {
      "model_module": "@jupyter-widgets/controls",
      "model_module_version": "1.5.0",
      "model_name": "HTMLModel",
      "state": {
       "layout": "IPY_MODEL_243da10d8499404b8392249b201717b6",
       "style": "IPY_MODEL_d02ad019ab564bcfa3c70617b30e7d94",
       "value": "100%"
      }
     },
     "08610fde642e4602a7877c31e30e0c13": {
      "model_module": "@jupyter-widgets/base",
      "model_module_version": "1.2.0",
      "model_name": "LayoutModel",
      "state": {}
     },
     "08b3180d9998401696323cc89854704d": {
      "model_module": "@jupyter-widgets/base",
      "model_module_version": "1.2.0",
      "model_name": "LayoutModel",
      "state": {}
     },
     "099571565e004e729044e6f97cea2ff2": {
      "model_module": "@jupyter-widgets/controls",
      "model_module_version": "1.5.0",
      "model_name": "HBoxModel",
      "state": {
       "children": [
        "IPY_MODEL_6559a3ed9da247c8b669c8db5d100d52",
        "IPY_MODEL_f60326dd7cf9445a86e6147679d1ae7a",
        "IPY_MODEL_7ca7b8fbe5d84e3da16056100c320d29"
       ],
       "layout": "IPY_MODEL_c9310eb3ba544023a36ac0bd05f26164"
      }
     },
     "0bcd17aec0ed474bb32de2592127d47b": {
      "model_module": "@jupyter-widgets/controls",
      "model_module_version": "1.5.0",
      "model_name": "FloatProgressModel",
      "state": {
       "bar_style": "success",
       "layout": "IPY_MODEL_e0ad22216bff4380bc6ae248c198b910",
       "max": 36,
       "style": "IPY_MODEL_d31e306c0cf24897a007703deb1e89ae",
       "value": 36
      }
     },
     "1103806b94b14908ae6c48b6456187a9": {
      "model_module": "@jupyter-widgets/base",
      "model_module_version": "1.2.0",
      "model_name": "LayoutModel",
      "state": {}
     },
     "119eed2dbe4a46e5b529b8707fbba68c": {
      "model_module": "@jupyter-widgets/controls",
      "model_module_version": "1.5.0",
      "model_name": "ProgressStyleModel",
      "state": {
       "description_width": ""
      }
     },
     "15b801926050468397af233f4c343c7c": {
      "model_module": "@jupyter-widgets/controls",
      "model_module_version": "1.5.0",
      "model_name": "DescriptionStyleModel",
      "state": {
       "description_width": ""
      }
     },
     "163905b1424e4b3bac76680da678f73f": {
      "model_module": "@jupyter-widgets/base",
      "model_module_version": "1.2.0",
      "model_name": "LayoutModel",
      "state": {}
     },
     "16f2ce80eb974141abaa2215a89918b9": {
      "model_module": "@jupyter-widgets/base",
      "model_module_version": "1.2.0",
      "model_name": "LayoutModel",
      "state": {}
     },
     "17140ed14bd041d2a79ccf623b1375f2": {
      "model_module": "@jupyter-widgets/base",
      "model_module_version": "1.2.0",
      "model_name": "LayoutModel",
      "state": {}
     },
     "17ad78d4f1d9404ba0d81e2434258003": {
      "model_module": "@jupyter-widgets/controls",
      "model_module_version": "1.5.0",
      "model_name": "ProgressStyleModel",
      "state": {
       "description_width": ""
      }
     },
     "1bb9ccde41bb43b6819f67207207b9fd": {
      "model_module": "@jupyter-widgets/base",
      "model_module_version": "1.2.0",
      "model_name": "LayoutModel",
      "state": {}
     },
     "1be4534930ee438b99e26b1e776e9f9d": {
      "model_module": "@jupyter-widgets/controls",
      "model_module_version": "1.5.0",
      "model_name": "HTMLModel",
      "state": {
       "layout": "IPY_MODEL_08610fde642e4602a7877c31e30e0c13",
       "style": "IPY_MODEL_de2cbfb5ed4d40c8a5ce9260a1f6ddd3",
       "value": " 11/11 [00:32&lt;00:00,  2.98s/it]"
      }
     },
     "1ca5fc0e11e64b9eb1b52fe66d989bf5": {
      "model_module": "@jupyter-widgets/controls",
      "model_module_version": "1.5.0",
      "model_name": "HTMLModel",
      "state": {
       "layout": "IPY_MODEL_2e9a4ab19b3c4fd8a81634a39fb84974",
       "style": "IPY_MODEL_258ea826e3704a5fb1531b4b25a42133",
       "value": " 36/36 [01:58&lt;00:00,  3.33s/it]"
      }
     },
     "1de4efa51f6c4d02b46b04691d99905a": {
      "model_module": "@jupyter-widgets/controls",
      "model_module_version": "1.5.0",
      "model_name": "HTMLModel",
      "state": {
       "layout": "IPY_MODEL_4c27e7299bf640658919d5d1e46d1a8c",
       "style": "IPY_MODEL_398ad9756485421ba3726eb2c03077f2"
      }
     },
     "243da10d8499404b8392249b201717b6": {
      "model_module": "@jupyter-widgets/base",
      "model_module_version": "1.2.0",
      "model_name": "LayoutModel",
      "state": {}
     },
     "258cc41611a14bf99c0ba82979ccf7fc": {
      "model_module": "@jupyter-widgets/controls",
      "model_module_version": "1.5.0",
      "model_name": "HTMLModel",
      "state": {
       "layout": "IPY_MODEL_16f2ce80eb974141abaa2215a89918b9",
       "style": "IPY_MODEL_dd8a9510f8e24117b55a736276c5a7b4",
       "value": " 50/50 [01:18&lt;00:00,  1.59s/it]"
      }
     },
     "258ea826e3704a5fb1531b4b25a42133": {
      "model_module": "@jupyter-widgets/controls",
      "model_module_version": "1.5.0",
      "model_name": "DescriptionStyleModel",
      "state": {
       "description_width": ""
      }
     },
     "280e5d8f476f4668984fe451e9f37bd0": {
      "model_module": "@jupyter-widgets/base",
      "model_module_version": "1.2.0",
      "model_name": "LayoutModel",
      "state": {}
     },
     "2e9a4ab19b3c4fd8a81634a39fb84974": {
      "model_module": "@jupyter-widgets/base",
      "model_module_version": "1.2.0",
      "model_name": "LayoutModel",
      "state": {}
     },
     "2f59e70276134a5995c83e3e38412781": {
      "model_module": "@jupyter-widgets/controls",
      "model_module_version": "1.5.0",
      "model_name": "HBoxModel",
      "state": {
       "children": [
        "IPY_MODEL_d4211cbe068b416696b7d51bd91f472a",
        "IPY_MODEL_62035bc118574bfebf26eb73fe0a5ec7",
        "IPY_MODEL_258cc41611a14bf99c0ba82979ccf7fc"
       ],
       "layout": "IPY_MODEL_5eedb7019b5147a6a93c7c3af75094c6"
      }
     },
     "311c1840848c41abac9c5682146015fa": {
      "model_module": "@jupyter-widgets/base",
      "model_module_version": "1.2.0",
      "model_name": "LayoutModel",
      "state": {}
     },
     "3509f14c514a4f38975292b151ced498": {
      "model_module": "@jupyter-widgets/base",
      "model_module_version": "1.2.0",
      "model_name": "LayoutModel",
      "state": {}
     },
     "37f340bd21c649c887a4cb2a9db279cf": {
      "model_module": "@jupyter-widgets/controls",
      "model_module_version": "1.5.0",
      "model_name": "HBoxModel",
      "state": {
       "children": [
        "IPY_MODEL_04ee758c9b9d4028b8a9820f8622ee86",
        "IPY_MODEL_d093bc8da46e4b0ba66c66eff3e70765",
        "IPY_MODEL_e2876def5d824344aa8d26d62f6da914"
       ],
       "layout": "IPY_MODEL_5c165c905d2f4fec83e8a5b522fb49c8"
      }
     },
     "398ad9756485421ba3726eb2c03077f2": {
      "model_module": "@jupyter-widgets/controls",
      "model_module_version": "1.5.0",
      "model_name": "DescriptionStyleModel",
      "state": {
       "description_width": ""
      }
     },
     "39c4a96d07c44eeba30bd5366357c4b0": {
      "model_module": "@jupyter-widgets/controls",
      "model_module_version": "1.5.0",
      "model_name": "HBoxModel",
      "state": {
       "children": [
        "IPY_MODEL_92ad90b3bf2c409e95d24c5f59179e18",
        "IPY_MODEL_0bcd17aec0ed474bb32de2592127d47b",
        "IPY_MODEL_1ca5fc0e11e64b9eb1b52fe66d989bf5"
       ],
       "layout": "IPY_MODEL_3509f14c514a4f38975292b151ced498"
      }
     },
     "3c23c0f3b94e404ebe8f43eb9f529ac7": {
      "model_module": "@jupyter-widgets/controls",
      "model_module_version": "1.5.0",
      "model_name": "DescriptionStyleModel",
      "state": {
       "description_width": ""
      }
     },
     "40f18bf3b0dd453d81e340cbe96148f4": {
      "model_module": "@jupyter-widgets/controls",
      "model_module_version": "1.5.0",
      "model_name": "DescriptionStyleModel",
      "state": {
       "description_width": ""
      }
     },
     "42e7575954684f17a47a5a29d48a3119": {
      "model_module": "@jupyter-widgets/base",
      "model_module_version": "1.2.0",
      "model_name": "LayoutModel",
      "state": {}
     },
     "43ab550f8d664ff5a4cc475d5571c5fa": {
      "model_module": "@jupyter-widgets/controls",
      "model_module_version": "1.5.0",
      "model_name": "HBoxModel",
      "state": {
       "children": [
        "IPY_MODEL_5588fe64bc55421cb818da3f330d05e0",
        "IPY_MODEL_5326756ee77143bcb346bd1b4fbcbd0e",
        "IPY_MODEL_1be4534930ee438b99e26b1e776e9f9d"
       ],
       "layout": "IPY_MODEL_8ea614f179414dd4a299ca402703f3cb"
      }
     },
     "452103da2a0b4dffbc3c4c01c2cbb7f2": {
      "model_module": "@jupyter-widgets/base",
      "model_module_version": "1.2.0",
      "model_name": "LayoutModel",
      "state": {}
     },
     "46f34a4c272a4b4b8933c2c077fffc7e": {
      "model_module": "@jupyter-widgets/base",
      "model_module_version": "1.2.0",
      "model_name": "LayoutModel",
      "state": {
       "width": "20px"
      }
     },
     "476f18809aee4c81a147d0dae2b1a3d2": {
      "model_module": "@jupyter-widgets/base",
      "model_module_version": "1.2.0",
      "model_name": "LayoutModel",
      "state": {}
     },
     "477077a99ee34aa395ab20e1ffff0bb3": {
      "model_module": "@jupyter-widgets/base",
      "model_module_version": "1.2.0",
      "model_name": "LayoutModel",
      "state": {}
     },
     "4c27e7299bf640658919d5d1e46d1a8c": {
      "model_module": "@jupyter-widgets/base",
      "model_module_version": "1.2.0",
      "model_name": "LayoutModel",
      "state": {}
     },
     "4f6b6b36aaf14874bfe730d97c439ba7": {
      "model_module": "@jupyter-widgets/controls",
      "model_module_version": "1.5.0",
      "model_name": "DescriptionStyleModel",
      "state": {
       "description_width": ""
      }
     },
     "5326756ee77143bcb346bd1b4fbcbd0e": {
      "model_module": "@jupyter-widgets/controls",
      "model_module_version": "1.5.0",
      "model_name": "FloatProgressModel",
      "state": {
       "bar_style": "success",
       "layout": "IPY_MODEL_5360e602258144fa96cf424acf845a8a",
       "max": 11,
       "style": "IPY_MODEL_00cd5a463a5e472e8c663c4be586c26c",
       "value": 11
      }
     },
     "5360e602258144fa96cf424acf845a8a": {
      "model_module": "@jupyter-widgets/base",
      "model_module_version": "1.2.0",
      "model_name": "LayoutModel",
      "state": {}
     },
     "547708513c544a859bd2f401f665e0ff": {
      "model_module": "@jupyter-widgets/controls",
      "model_module_version": "1.5.0",
      "model_name": "DescriptionStyleModel",
      "state": {
       "description_width": ""
      }
     },
     "5588fe64bc55421cb818da3f330d05e0": {
      "model_module": "@jupyter-widgets/controls",
      "model_module_version": "1.5.0",
      "model_name": "HTMLModel",
      "state": {
       "layout": "IPY_MODEL_42e7575954684f17a47a5a29d48a3119",
       "style": "IPY_MODEL_73114a42a49c468ca8f503bbcf020176",
       "value": "100%"
      }
     },
     "56597309f3cb4a609f2b98b267c9123c": {
      "model_module": "@jupyter-widgets/controls",
      "model_module_version": "1.5.0",
      "model_name": "FloatProgressModel",
      "state": {
       "bar_style": "danger",
       "layout": "IPY_MODEL_452103da2a0b4dffbc3c4c01c2cbb7f2",
       "max": 50,
       "style": "IPY_MODEL_88b0229a43e64c6490607383d92516fb"
      }
     },
     "576e764ec1a9400294cce3df46aa05d5": {
      "model_module": "@jupyter-widgets/controls",
      "model_module_version": "1.5.0",
      "model_name": "DescriptionStyleModel",
      "state": {
       "description_width": ""
      }
     },
     "5933f87036404153b97ad603a9cc6c56": {
      "model_module": "@jupyter-widgets/base",
      "model_module_version": "1.2.0",
      "model_name": "LayoutModel",
      "state": {}
     },
     "5a29019a60c74b428eb159010e38bc91": {
      "model_module": "@jupyter-widgets/base",
      "model_module_version": "1.2.0",
      "model_name": "LayoutModel",
      "state": {}
     },
     "5a91a08d81bd437d8745564e45eb51e2": {
      "model_module": "@jupyter-widgets/controls",
      "model_module_version": "1.5.0",
      "model_name": "DescriptionStyleModel",
      "state": {
       "description_width": ""
      }
     },
     "5b065878ec2541cb8d6cfd143ba35c2b": {
      "model_module": "@jupyter-widgets/controls",
      "model_module_version": "1.5.0",
      "model_name": "HTMLModel",
      "state": {
       "layout": "IPY_MODEL_08b3180d9998401696323cc89854704d",
       "style": "IPY_MODEL_8a6fe7ac86f84be8b28a08119e752964",
       "value": " 2/2 [00:06&lt;00:00,  3.12s/it]"
      }
     },
     "5c165c905d2f4fec83e8a5b522fb49c8": {
      "model_module": "@jupyter-widgets/base",
      "model_module_version": "1.2.0",
      "model_name": "LayoutModel",
      "state": {}
     },
     "5e0cf10575a5497db60a11453f8261cf": {
      "model_module": "@jupyter-widgets/base",
      "model_module_version": "1.2.0",
      "model_name": "LayoutModel",
      "state": {}
     },
     "5eedb7019b5147a6a93c7c3af75094c6": {
      "model_module": "@jupyter-widgets/base",
      "model_module_version": "1.2.0",
      "model_name": "LayoutModel",
      "state": {}
     },
     "62035bc118574bfebf26eb73fe0a5ec7": {
      "model_module": "@jupyter-widgets/controls",
      "model_module_version": "1.5.0",
      "model_name": "FloatProgressModel",
      "state": {
       "bar_style": "success",
       "layout": "IPY_MODEL_9880cd15b91b4024ba2c1d953eca3be1",
       "max": 50,
       "style": "IPY_MODEL_119eed2dbe4a46e5b529b8707fbba68c",
       "value": 50
      }
     },
     "6559a3ed9da247c8b669c8db5d100d52": {
      "model_module": "@jupyter-widgets/controls",
      "model_module_version": "1.5.0",
      "model_name": "HTMLModel",
      "state": {
       "layout": "IPY_MODEL_311c1840848c41abac9c5682146015fa",
       "style": "IPY_MODEL_40f18bf3b0dd453d81e340cbe96148f4",
       "value": "100%"
      }
     },
     "678d106deda642258c0938e44603b5cc": {
      "model_module": "@jupyter-widgets/controls",
      "model_module_version": "1.5.0",
      "model_name": "ProgressStyleModel",
      "state": {
       "description_width": ""
      }
     },
     "688eb962e470492fb00197e61ab7729f": {
      "model_module": "@jupyter-widgets/base",
      "model_module_version": "1.2.0",
      "model_name": "LayoutModel",
      "state": {}
     },
     "6c2d88d507d14186b4fb98e50b90c4d4": {
      "model_module": "@jupyter-widgets/controls",
      "model_module_version": "1.5.0",
      "model_name": "HTMLModel",
      "state": {
       "layout": "IPY_MODEL_1bb9ccde41bb43b6819f67207207b9fd",
       "style": "IPY_MODEL_547708513c544a859bd2f401f665e0ff",
       "value": " 50/50 [01:16&lt;00:00,  1.87s/it]"
      }
     },
     "6e5280a568384a3d83745105c1a97631": {
      "model_module": "@jupyter-widgets/controls",
      "model_module_version": "1.5.0",
      "model_name": "HTMLModel",
      "state": {
       "layout": "IPY_MODEL_eab88453f81940eaaf0e11b0dc5eebe1",
       "style": "IPY_MODEL_5a91a08d81bd437d8745564e45eb51e2",
       "value": "100%"
      }
     },
     "73114a42a49c468ca8f503bbcf020176": {
      "model_module": "@jupyter-widgets/controls",
      "model_module_version": "1.5.0",
      "model_name": "DescriptionStyleModel",
      "state": {
       "description_width": ""
      }
     },
     "7673d198c6444b088d984301f29b1323": {
      "model_module": "@jupyter-widgets/controls",
      "model_module_version": "1.5.0",
      "model_name": "ProgressStyleModel",
      "state": {
       "description_width": ""
      }
     },
     "7a0ac4629d664412b1ab9ac79b5b1e6e": {
      "model_module": "@jupyter-widgets/base",
      "model_module_version": "1.2.0",
      "model_name": "LayoutModel",
      "state": {}
     },
     "7bb8c8d0e68d4cb0ab32b2541cf34117": {
      "model_module": "@jupyter-widgets/base",
      "model_module_version": "1.2.0",
      "model_name": "LayoutModel",
      "state": {}
     },
     "7c605f1b76624c1ca275acd7b484d245": {
      "model_module": "@jupyter-widgets/base",
      "model_module_version": "1.2.0",
      "model_name": "LayoutModel",
      "state": {}
     },
     "7ca7b8fbe5d84e3da16056100c320d29": {
      "model_module": "@jupyter-widgets/controls",
      "model_module_version": "1.5.0",
      "model_name": "HTMLModel",
      "state": {
       "layout": "IPY_MODEL_163905b1424e4b3bac76680da678f73f",
       "style": "IPY_MODEL_f06086e589c3492fb9a05caf8b2e2836",
       "value": " 50/50 [05:06&lt;00:00,  6.49s/it]"
      }
     },
     "7e68a6430a1f48ac99f8e947f0867544": {
      "model_module": "@jupyter-widgets/base",
      "model_module_version": "1.2.0",
      "model_name": "LayoutModel",
      "state": {}
     },
     "8075f77120be415a8c0552feec488854": {
      "model_module": "@jupyter-widgets/controls",
      "model_module_version": "1.5.0",
      "model_name": "HTMLModel",
      "state": {
       "layout": "IPY_MODEL_688eb962e470492fb00197e61ab7729f",
       "style": "IPY_MODEL_d7688b5b763e491db1f68f59c6fa791e",
       "value": "100%"
      }
     },
     "810b10cd3ba14bd293952e73c829f52c": {
      "model_module": "@jupyter-widgets/controls",
      "model_module_version": "1.5.0",
      "model_name": "HTMLModel",
      "state": {
       "layout": "IPY_MODEL_fc74f9850f10491dbca5ec62615dcdea",
       "style": "IPY_MODEL_b310638adac34a6e8d7cddb7c70e37e4",
       "value": " 0/0 [00:00&lt;?, ?it/s]"
      }
     },
     "81a3a14fcc8741cab5486e1eb9b1638b": {
      "model_module": "@jupyter-widgets/controls",
      "model_module_version": "1.5.0",
      "model_name": "HTMLModel",
      "state": {
       "layout": "IPY_MODEL_91399c332b3144409b8955a47de14418",
       "style": "IPY_MODEL_fe1fec90d8d44b3f92389fc8b28a543a",
       "value": "100%"
      }
     },
     "840289262938484e8a46bf5e8c028dd5": {
      "model_module": "@jupyter-widgets/controls",
      "model_module_version": "1.5.0",
      "model_name": "HBoxModel",
      "state": {
       "children": [
        "IPY_MODEL_1de4efa51f6c4d02b46b04691d99905a",
        "IPY_MODEL_8fbaed857ff9436daf0af86439bac9d8",
        "IPY_MODEL_810b10cd3ba14bd293952e73c829f52c"
       ],
       "layout": "IPY_MODEL_17140ed14bd041d2a79ccf623b1375f2"
      }
     },
     "851e21a5e83542ecb62d236b7ea2146a": {
      "model_module": "@jupyter-widgets/controls",
      "model_module_version": "1.5.0",
      "model_name": "HTMLModel",
      "state": {
       "layout": "IPY_MODEL_7bb8c8d0e68d4cb0ab32b2541cf34117",
       "style": "IPY_MODEL_576e764ec1a9400294cce3df46aa05d5",
       "value": " 0/50 [00:00&lt;?, ?it/s]"
      }
     },
     "8747114ca70840918013a094420dfaaf": {
      "model_module": "@jupyter-widgets/controls",
      "model_module_version": "1.5.0",
      "model_name": "DescriptionStyleModel",
      "state": {
       "description_width": ""
      }
     },
     "88b0229a43e64c6490607383d92516fb": {
      "model_module": "@jupyter-widgets/controls",
      "model_module_version": "1.5.0",
      "model_name": "ProgressStyleModel",
      "state": {
       "description_width": ""
      }
     },
     "88c2e0ab0e6c4d3bb09fcc27b5f9bce4": {
      "model_module": "@jupyter-widgets/controls",
      "model_module_version": "1.5.0",
      "model_name": "HTMLModel",
      "state": {
       "layout": "IPY_MODEL_5933f87036404153b97ad603a9cc6c56",
       "style": "IPY_MODEL_4f6b6b36aaf14874bfe730d97c439ba7",
       "value": " 0/11 [03:24&lt;?, ?it/s]"
      }
     },
     "8a6fe7ac86f84be8b28a08119e752964": {
      "model_module": "@jupyter-widgets/controls",
      "model_module_version": "1.5.0",
      "model_name": "DescriptionStyleModel",
      "state": {
       "description_width": ""
      }
     },
     "8bcb3d8579594895b40a36008da5f3a9": {
      "model_module": "@jupyter-widgets/controls",
      "model_module_version": "1.5.0",
      "model_name": "FloatProgressModel",
      "state": {
       "bar_style": "success",
       "layout": "IPY_MODEL_abdb506b5dad435b83c53367cb77f3e8",
       "max": 50,
       "style": "IPY_MODEL_e81463a40dd34f19a88f5b3d1322607c",
       "value": 50
      }
     },
     "8e273f75c7534592b23271de683927bb": {
      "model_module": "@jupyter-widgets/base",
      "model_module_version": "1.2.0",
      "model_name": "LayoutModel",
      "state": {}
     },
     "8e5fd98c766f4c6e872e12ff29c3a858": {
      "model_module": "@jupyter-widgets/controls",
      "model_module_version": "1.5.0",
      "model_name": "FloatProgressModel",
      "state": {
       "bar_style": "success",
       "layout": "IPY_MODEL_adceb0f6b1474af9ac0c1858d027fc9e",
       "max": 11,
       "style": "IPY_MODEL_9551d9a3b9024cec931da163c8f5f8dc",
       "value": 11
      }
     },
     "8ea614f179414dd4a299ca402703f3cb": {
      "model_module": "@jupyter-widgets/base",
      "model_module_version": "1.2.0",
      "model_name": "LayoutModel",
      "state": {}
     },
     "8fbaed857ff9436daf0af86439bac9d8": {
      "model_module": "@jupyter-widgets/controls",
      "model_module_version": "1.5.0",
      "model_name": "FloatProgressModel",
      "state": {
       "bar_style": "success",
       "layout": "IPY_MODEL_46f34a4c272a4b4b8933c2c077fffc7e",
       "max": 1,
       "style": "IPY_MODEL_d19add793dd64d6bb0fca26269b7263d"
      }
     },
     "91399c332b3144409b8955a47de14418": {
      "model_module": "@jupyter-widgets/base",
      "model_module_version": "1.2.0",
      "model_name": "LayoutModel",
      "state": {}
     },
     "92ad90b3bf2c409e95d24c5f59179e18": {
      "model_module": "@jupyter-widgets/controls",
      "model_module_version": "1.5.0",
      "model_name": "HTMLModel",
      "state": {
       "layout": "IPY_MODEL_f0e6c8c6115e4c249988eb981d8c0563",
       "style": "IPY_MODEL_c5a2720880ad4e98b71d985a8b50e17a",
       "value": "100%"
      }
     },
     "9551d9a3b9024cec931da163c8f5f8dc": {
      "model_module": "@jupyter-widgets/controls",
      "model_module_version": "1.5.0",
      "model_name": "ProgressStyleModel",
      "state": {
       "description_width": ""
      }
     },
     "9880cd15b91b4024ba2c1d953eca3be1": {
      "model_module": "@jupyter-widgets/base",
      "model_module_version": "1.2.0",
      "model_name": "LayoutModel",
      "state": {}
     },
     "99ea62b7d87a408e916d9e940b47e9ee": {
      "model_module": "@jupyter-widgets/controls",
      "model_module_version": "1.5.0",
      "model_name": "HTMLModel",
      "state": {
       "layout": "IPY_MODEL_1103806b94b14908ae6c48b6456187a9",
       "style": "IPY_MODEL_c13ee74d53174439a2a76caa5a02dd39",
       "value": " 11/11 [00:31&lt;00:00,  2.86s/it]"
      }
     },
     "9e5addf7a24b43bf88dd50f7ddaedcd1": {
      "model_module": "@jupyter-widgets/controls",
      "model_module_version": "1.5.0",
      "model_name": "HBoxModel",
      "state": {
       "children": [
        "IPY_MODEL_07f642b217e74c21bb7f26a7f3b93404",
        "IPY_MODEL_8bcb3d8579594895b40a36008da5f3a9",
        "IPY_MODEL_6c2d88d507d14186b4fb98e50b90c4d4"
       ],
       "layout": "IPY_MODEL_cd298b729a9b4d5bac4113777ae2f76e"
      }
     },
     "9fdeaea3ca474e1683190792da686194": {
      "model_module": "@jupyter-widgets/controls",
      "model_module_version": "1.5.0",
      "model_name": "FloatProgressModel",
      "state": {
       "bar_style": "success",
       "layout": "IPY_MODEL_476f18809aee4c81a147d0dae2b1a3d2",
       "max": 2,
       "style": "IPY_MODEL_7673d198c6444b088d984301f29b1323",
       "value": 2
      }
     },
     "a3a04597b2894602a27f145d2f552b74": {
      "model_module": "@jupyter-widgets/base",
      "model_module_version": "1.2.0",
      "model_name": "LayoutModel",
      "state": {}
     },
     "abdb506b5dad435b83c53367cb77f3e8": {
      "model_module": "@jupyter-widgets/base",
      "model_module_version": "1.2.0",
      "model_name": "LayoutModel",
      "state": {}
     },
     "adceb0f6b1474af9ac0c1858d027fc9e": {
      "model_module": "@jupyter-widgets/base",
      "model_module_version": "1.2.0",
      "model_name": "LayoutModel",
      "state": {}
     },
     "b00761984bcf4f3084fdbb73e9a4c04a": {
      "model_module": "@jupyter-widgets/controls",
      "model_module_version": "1.5.0",
      "model_name": "DescriptionStyleModel",
      "state": {
       "description_width": ""
      }
     },
     "b310638adac34a6e8d7cddb7c70e37e4": {
      "model_module": "@jupyter-widgets/controls",
      "model_module_version": "1.5.0",
      "model_name": "DescriptionStyleModel",
      "state": {
       "description_width": ""
      }
     },
     "b4aed54b60434742a59eaca54b74951d": {
      "model_module": "@jupyter-widgets/controls",
      "model_module_version": "1.5.0",
      "model_name": "DescriptionStyleModel",
      "state": {
       "description_width": ""
      }
     },
     "bf8f22aed3fc4d32b5deff2c855f72ca": {
      "model_module": "@jupyter-widgets/controls",
      "model_module_version": "1.5.0",
      "model_name": "ProgressStyleModel",
      "state": {
       "description_width": ""
      }
     },
     "c13ee74d53174439a2a76caa5a02dd39": {
      "model_module": "@jupyter-widgets/controls",
      "model_module_version": "1.5.0",
      "model_name": "DescriptionStyleModel",
      "state": {
       "description_width": ""
      }
     },
     "c23f0284ea344df9837e75a6c3c195b9": {
      "model_module": "@jupyter-widgets/controls",
      "model_module_version": "1.5.0",
      "model_name": "HTMLModel",
      "state": {
       "layout": "IPY_MODEL_d5a3c507b19e4b829ca47cd56753096e",
       "style": "IPY_MODEL_b00761984bcf4f3084fdbb73e9a4c04a",
       "value": "  0%"
      }
     },
     "c5a2720880ad4e98b71d985a8b50e17a": {
      "model_module": "@jupyter-widgets/controls",
      "model_module_version": "1.5.0",
      "model_name": "DescriptionStyleModel",
      "state": {
       "description_width": ""
      }
     },
     "c9310eb3ba544023a36ac0bd05f26164": {
      "model_module": "@jupyter-widgets/base",
      "model_module_version": "1.2.0",
      "model_name": "LayoutModel",
      "state": {}
     },
     "cb057ec4b34c4aab8e4b6b787752111e": {
      "model_module": "@jupyter-widgets/base",
      "model_module_version": "1.2.0",
      "model_name": "LayoutModel",
      "state": {}
     },
     "cd298b729a9b4d5bac4113777ae2f76e": {
      "model_module": "@jupyter-widgets/base",
      "model_module_version": "1.2.0",
      "model_name": "LayoutModel",
      "state": {}
     },
     "ce8b0aa3a24441b3903213676d69a2e8": {
      "model_module": "@jupyter-widgets/controls",
      "model_module_version": "1.5.0",
      "model_name": "HBoxModel",
      "state": {
       "children": [
        "IPY_MODEL_8075f77120be415a8c0552feec488854",
        "IPY_MODEL_f0bf0d54fb1f4a40b8966e2b4731a4e2",
        "IPY_MODEL_f717b58b30164b1eac12c3db725f8b14"
       ],
       "layout": "IPY_MODEL_fd2f6a40c8cb423c9495efb921e00afe"
      }
     },
     "d02ad019ab564bcfa3c70617b30e7d94": {
      "model_module": "@jupyter-widgets/controls",
      "model_module_version": "1.5.0",
      "model_name": "DescriptionStyleModel",
      "state": {
       "description_width": ""
      }
     },
     "d093bc8da46e4b0ba66c66eff3e70765": {
      "model_module": "@jupyter-widgets/controls",
      "model_module_version": "1.5.0",
      "model_name": "FloatProgressModel",
      "state": {
       "bar_style": "danger",
       "layout": "IPY_MODEL_de3ea5527aa1418589028c8671670ab3",
       "max": 50,
       "style": "IPY_MODEL_678d106deda642258c0938e44603b5cc"
      }
     },
     "d19add793dd64d6bb0fca26269b7263d": {
      "model_module": "@jupyter-widgets/controls",
      "model_module_version": "1.5.0",
      "model_name": "ProgressStyleModel",
      "state": {
       "description_width": ""
      }
     },
     "d31e306c0cf24897a007703deb1e89ae": {
      "model_module": "@jupyter-widgets/controls",
      "model_module_version": "1.5.0",
      "model_name": "ProgressStyleModel",
      "state": {
       "description_width": ""
      }
     },
     "d4211cbe068b416696b7d51bd91f472a": {
      "model_module": "@jupyter-widgets/controls",
      "model_module_version": "1.5.0",
      "model_name": "HTMLModel",
      "state": {
       "layout": "IPY_MODEL_cb057ec4b34c4aab8e4b6b787752111e",
       "style": "IPY_MODEL_b4aed54b60434742a59eaca54b74951d",
       "value": "100%"
      }
     },
     "d5a3c507b19e4b829ca47cd56753096e": {
      "model_module": "@jupyter-widgets/base",
      "model_module_version": "1.2.0",
      "model_name": "LayoutModel",
      "state": {}
     },
     "d7688b5b763e491db1f68f59c6fa791e": {
      "model_module": "@jupyter-widgets/controls",
      "model_module_version": "1.5.0",
      "model_name": "DescriptionStyleModel",
      "state": {
       "description_width": ""
      }
     },
     "d8a5c58cdab74fe1b4c3a5699e498bfd": {
      "model_module": "@jupyter-widgets/controls",
      "model_module_version": "1.5.0",
      "model_name": "HBoxModel",
      "state": {
       "children": [
        "IPY_MODEL_e06de9457cdc4a4f86b1e9f1acb1d359",
        "IPY_MODEL_56597309f3cb4a609f2b98b267c9123c",
        "IPY_MODEL_851e21a5e83542ecb62d236b7ea2146a"
       ],
       "layout": "IPY_MODEL_8e273f75c7534592b23271de683927bb"
      }
     },
     "dd8a9510f8e24117b55a736276c5a7b4": {
      "model_module": "@jupyter-widgets/controls",
      "model_module_version": "1.5.0",
      "model_name": "DescriptionStyleModel",
      "state": {
       "description_width": ""
      }
     },
     "de2cbfb5ed4d40c8a5ce9260a1f6ddd3": {
      "model_module": "@jupyter-widgets/controls",
      "model_module_version": "1.5.0",
      "model_name": "DescriptionStyleModel",
      "state": {
       "description_width": ""
      }
     },
     "de3ea5527aa1418589028c8671670ab3": {
      "model_module": "@jupyter-widgets/base",
      "model_module_version": "1.2.0",
      "model_name": "LayoutModel",
      "state": {}
     },
     "e06de9457cdc4a4f86b1e9f1acb1d359": {
      "model_module": "@jupyter-widgets/controls",
      "model_module_version": "1.5.0",
      "model_name": "HTMLModel",
      "state": {
       "layout": "IPY_MODEL_ede1882f92be48e8bc1fb3f7e3f47b3b",
       "style": "IPY_MODEL_8747114ca70840918013a094420dfaaf",
       "value": "  0%"
      }
     },
     "e074f35426824ae9963a2d0289394e2a": {
      "model_module": "@jupyter-widgets/controls",
      "model_module_version": "1.5.0",
      "model_name": "FloatProgressModel",
      "state": {
       "bar_style": "danger",
       "layout": "IPY_MODEL_7a0ac4629d664412b1ab9ac79b5b1e6e",
       "max": 11,
       "style": "IPY_MODEL_17ad78d4f1d9404ba0d81e2434258003"
      }
     },
     "e0ad22216bff4380bc6ae248c198b910": {
      "model_module": "@jupyter-widgets/base",
      "model_module_version": "1.2.0",
      "model_name": "LayoutModel",
      "state": {}
     },
     "e2876def5d824344aa8d26d62f6da914": {
      "model_module": "@jupyter-widgets/controls",
      "model_module_version": "1.5.0",
      "model_name": "HTMLModel",
      "state": {
       "layout": "IPY_MODEL_7e68a6430a1f48ac99f8e947f0867544",
       "style": "IPY_MODEL_f1c8a7bd1b3f41609c859b5479476d95",
       "value": " 0/50 [00:00&lt;?, ?it/s]"
      }
     },
     "e81463a40dd34f19a88f5b3d1322607c": {
      "model_module": "@jupyter-widgets/controls",
      "model_module_version": "1.5.0",
      "model_name": "ProgressStyleModel",
      "state": {
       "description_width": ""
      }
     },
     "ea8f0135031546e7876ca852697d2227": {
      "model_module": "@jupyter-widgets/controls",
      "model_module_version": "1.5.0",
      "model_name": "HBoxModel",
      "state": {
       "children": [
        "IPY_MODEL_81a3a14fcc8741cab5486e1eb9b1638b",
        "IPY_MODEL_9fdeaea3ca474e1683190792da686194",
        "IPY_MODEL_5b065878ec2541cb8d6cfd143ba35c2b"
       ],
       "layout": "IPY_MODEL_280e5d8f476f4668984fe451e9f37bd0"
      }
     },
     "eab88453f81940eaaf0e11b0dc5eebe1": {
      "model_module": "@jupyter-widgets/base",
      "model_module_version": "1.2.0",
      "model_name": "LayoutModel",
      "state": {}
     },
     "ede1882f92be48e8bc1fb3f7e3f47b3b": {
      "model_module": "@jupyter-widgets/base",
      "model_module_version": "1.2.0",
      "model_name": "LayoutModel",
      "state": {}
     },
     "f06086e589c3492fb9a05caf8b2e2836": {
      "model_module": "@jupyter-widgets/controls",
      "model_module_version": "1.5.0",
      "model_name": "DescriptionStyleModel",
      "state": {
       "description_width": ""
      }
     },
     "f0bf0d54fb1f4a40b8966e2b4731a4e2": {
      "model_module": "@jupyter-widgets/controls",
      "model_module_version": "1.5.0",
      "model_name": "FloatProgressModel",
      "state": {
       "bar_style": "success",
       "layout": "IPY_MODEL_01be5c61458f4b858ae358a38e5b1854",
       "max": 50,
       "style": "IPY_MODEL_fe0bebbed14b421e83bde7ff1d098fb0",
       "value": 50
      }
     },
     "f0e6c8c6115e4c249988eb981d8c0563": {
      "model_module": "@jupyter-widgets/base",
      "model_module_version": "1.2.0",
      "model_name": "LayoutModel",
      "state": {}
     },
     "f1c8a7bd1b3f41609c859b5479476d95": {
      "model_module": "@jupyter-widgets/controls",
      "model_module_version": "1.5.0",
      "model_name": "DescriptionStyleModel",
      "state": {
       "description_width": ""
      }
     },
     "f60326dd7cf9445a86e6147679d1ae7a": {
      "model_module": "@jupyter-widgets/controls",
      "model_module_version": "1.5.0",
      "model_name": "FloatProgressModel",
      "state": {
       "bar_style": "success",
       "layout": "IPY_MODEL_5e0cf10575a5497db60a11453f8261cf",
       "max": 50,
       "style": "IPY_MODEL_bf8f22aed3fc4d32b5deff2c855f72ca",
       "value": 50
      }
     },
     "f717b58b30164b1eac12c3db725f8b14": {
      "model_module": "@jupyter-widgets/controls",
      "model_module_version": "1.5.0",
      "model_name": "HTMLModel",
      "state": {
       "layout": "IPY_MODEL_a3a04597b2894602a27f145d2f552b74",
       "style": "IPY_MODEL_3c23c0f3b94e404ebe8f43eb9f529ac7",
       "value": " 50/50 [01:00&lt;00:00,  1.22s/it]"
      }
     },
     "fba86fff21b544b08baf9263009a491b": {
      "model_module": "@jupyter-widgets/controls",
      "model_module_version": "1.5.0",
      "model_name": "HBoxModel",
      "state": {
       "children": [
        "IPY_MODEL_6e5280a568384a3d83745105c1a97631",
        "IPY_MODEL_8e5fd98c766f4c6e872e12ff29c3a858",
        "IPY_MODEL_99ea62b7d87a408e916d9e940b47e9ee"
       ],
       "layout": "IPY_MODEL_7c605f1b76624c1ca275acd7b484d245"
      }
     },
     "fc74f9850f10491dbca5ec62615dcdea": {
      "model_module": "@jupyter-widgets/base",
      "model_module_version": "1.2.0",
      "model_name": "LayoutModel",
      "state": {}
     },
     "fd2f6a40c8cb423c9495efb921e00afe": {
      "model_module": "@jupyter-widgets/base",
      "model_module_version": "1.2.0",
      "model_name": "LayoutModel",
      "state": {}
     },
     "fd3ade7b004342dc892c3ae2a1c61794": {
      "model_module": "@jupyter-widgets/controls",
      "model_module_version": "1.5.0",
      "model_name": "HBoxModel",
      "state": {
       "children": [
        "IPY_MODEL_c23f0284ea344df9837e75a6c3c195b9",
        "IPY_MODEL_e074f35426824ae9963a2d0289394e2a",
        "IPY_MODEL_88c2e0ab0e6c4d3bb09fcc27b5f9bce4"
       ],
       "layout": "IPY_MODEL_477077a99ee34aa395ab20e1ffff0bb3"
      }
     },
     "fe0bebbed14b421e83bde7ff1d098fb0": {
      "model_module": "@jupyter-widgets/controls",
      "model_module_version": "1.5.0",
      "model_name": "ProgressStyleModel",
      "state": {
       "description_width": ""
      }
     },
     "fe1fec90d8d44b3f92389fc8b28a543a": {
      "model_module": "@jupyter-widgets/controls",
      "model_module_version": "1.5.0",
      "model_name": "DescriptionStyleModel",
      "state": {
       "description_width": ""
      }
     }
    },
    "version_major": 2,
    "version_minor": 0
   }
  }
 },
 "nbformat": 4,
 "nbformat_minor": 5
}
